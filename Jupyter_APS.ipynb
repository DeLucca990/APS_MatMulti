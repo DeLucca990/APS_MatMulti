{
 "cells": [
  {
   "cell_type": "markdown",
   "id": "e41385b0",
   "metadata": {},
   "source": [
    "# Funções APS Otimização Pelo Vetor Gradiente\n",
    "## Grupo:\n",
    "* Pedro De Lucca\n",
    "* Pedro Dutra\n",
    "* Fernando Mattos"
   ]
  },
  {
   "cell_type": "code",
   "execution_count": 1,
   "id": "75c6c057",
   "metadata": {},
   "outputs": [],
   "source": [
    "import sympy as sp\n",
    "import math"
   ]
  },
  {
   "cell_type": "markdown",
   "id": "b3da2ee7",
   "metadata": {},
   "source": [
    "## 1ª Etapa\n",
    "* f(x, y) = 3x² + 3x y + 2y² + x + y"
   ]
  },
  {
   "cell_type": "code",
   "execution_count": 2,
   "id": "e0f2db63",
   "metadata": {},
   "outputs": [
    {
     "name": "stdout",
     "output_type": "stream",
     "text": [
      "[6*x + 3*y + 1, 3*x + 4*y + 1]\n"
     ]
    }
   ],
   "source": [
    "# Aqui calculamos o gradiente da função acima\n",
    "\n",
    "# Definindo as variáveis\n",
    "x, y = sp.symbols('x y')\n",
    "\n",
    "# Definindo a função\n",
    "f = 3*x**2 + 3*x*y + 2*y**2 + x + y\n",
    "\n",
    "# Calculando o gradiente\n",
    "calcula_gradiente = [sp.diff(f, var) for var in (x, y)]\n",
    "print(calcula_gradiente)"
   ]
  },
  {
   "cell_type": "code",
   "execution_count": 3,
   "id": "3eee10fe",
   "metadata": {},
   "outputs": [],
   "source": [
    "# Colocamos os valores do gradiente numa função\n",
    "def gradiente(x,y):\n",
    "    return[6*x + 3*y + 1, 3*x + 4*y + 1]"
   ]
  },
  {
   "cell_type": "code",
   "execution_count": 4,
   "id": "4a8cb56d",
   "metadata": {},
   "outputs": [
    {
     "name": "stdout",
     "output_type": "stream",
     "text": [
      "Convergência alcançada a partir do ponto inicial (0.00, 0.00)\n",
      "O ponto mínimo é (-0.06667, -0.19999) após 47 iterações\n"
     ]
    }
   ],
   "source": [
    "alpha = 0.1  # Taxa de aprendizagem (0.1, 0.15, 0.2, 0.3, 0.5)\n",
    "threshold = 10e-6  # Limite de convergência\n",
    "max_iterations = 1000  # Número máximo de iterações\n",
    "\n",
    "initial_points = [(0, 0)]  # Pontos iniciais\n",
    "\n",
    "# Loop para calcular os pontos a partir de mais de um ponto inicial (Será o caso para as próximas duas etapas).\n",
    "for point in initial_points:\n",
    "    x, y = point\n",
    "    iterations = 0\n",
    "    \n",
    "    # Loop para calcular o vetor gradiente, com as seguintes condições: O valor positivo de x (abs(gradiente(x,y)[0])) deve ser\n",
    "    # maior que o limite de convergência (condição dada pelo enunciado) e as iterações não podem passar de 1000, caso passe,\n",
    "    # isso significa que houve falha ao convergir.\n",
    "    while abs(gradiente(x, y)[0]) > threshold and iterations < max_iterations: \n",
    "        a, b = gradiente(x, y) # 'a' equivale ao gradiente em x e 'b' ao gradiente em y\n",
    "        x -= alpha * a # Calcula x a partir do alpha\n",
    "        y -= alpha * b # Calcula y a partir do alpha\n",
    "        iterations += 1 # Soma mais uma iteração\n",
    "    \n",
    "    # Caso as iterações não ultrapssem o limite, 'printa' os pontos de mínimo com o número de iterações necessárias \n",
    "    if iterations < max_iterations:\n",
    "        print(f\"Convergência alcançada a partir do ponto inicial ({point[0]:.2f}, {point[1]:.2f})\")\n",
    "        print(f\"O ponto mínimo é ({x:.5f}, {y:.5f}) após {iterations} iterações\")\n",
    "        \n",
    "    # Caso ultrapasse, podemos inferir que houve falha ao convergir\n",
    "    else:\n",
    "        print(f\"Falha ao convergir a partir do ponto inicial ({point[0]:.2f}, {point[1]:.2f})\")\n"
   ]
  },
  {
   "cell_type": "markdown",
   "id": "13250736",
   "metadata": {},
   "source": [
    "## 2ª Etapa\n",
    "* g(x, y) = sqrt(x² + y² + 1) + x² ℯ^(-y²) + (x - 2)²"
   ]
  },
  {
   "cell_type": "code",
   "execution_count": 5,
   "id": "c05ec8fb",
   "metadata": {},
   "outputs": [
    {
     "name": "stdout",
     "output_type": "stream",
     "text": [
      "[2*x + 2*x*exp(-y**2) + x/sqrt(x**2 + y**2 + 1) - 4, -2*x**2*y*exp(-y**2) + y/sqrt(x**2 + y**2 + 1)]\n"
     ]
    }
   ],
   "source": [
    "# Aqui calculamos o gradiente da função acima\n",
    "\n",
    "# Definindo as variáveis\n",
    "x, y = sp.symbols('x y')\n",
    "\n",
    "# Definindo a função\n",
    "g = sp.sqrt(x**2 + y**2 + 1) + x**2 * sp.exp(-y**2) + (x - 2)**2\n",
    "\n",
    "# Calculando o gradiente\n",
    "calcula_gradiente = [sp.diff(g, var) for var in (x, y)]\n",
    "print(calcula_gradiente)"
   ]
  },
  {
   "cell_type": "code",
   "execution_count": 12,
   "id": "c5a643e3",
   "metadata": {},
   "outputs": [],
   "source": [
    "# Colocamos os valores do gradiente numa função\n",
    "def gradiente(x, y):\n",
    "    return [2*x + 2*x*math.exp(-y**2) + x/math.sqrt(x**2 + y**2 + 1) - 4,\n",
    "            -2*x**2*y*math.exp(-y**2) + y/math.sqrt(x**2 + y**2 + 1)]"
   ]
  },
  {
   "cell_type": "code",
   "execution_count": 13,
   "id": "2adb952a",
   "metadata": {},
   "outputs": [
    {
     "name": "stdout",
     "output_type": "stream",
     "text": [
      "Convergência alcançada a partir do ponto inicial (-1.00, -1.00)\n",
      "O ponto mínimo é (1.54617, -1.56424) após 108 iterações\n",
      "Convergência alcançada a partir do ponto inicial (1.00, 1.00)\n",
      "O ponto mínimo é (1.54618, 1.56424) após 99 iterações\n"
     ]
    }
   ],
   "source": [
    "alpha = 0.1  # Taxa de aprendizagem (0.1, 0.15, 0.2, 0.3, 0.5)\n",
    "threshold = 10e-6  # Limite de convergência\n",
    "max_iterations = 1000  # Número máximo de iterações\n",
    "\n",
    "initial_points = [(-1, -1), (1, 1)]  # Pontos iniciais\n",
    "\n",
    "# Loop para calcular os pontos a partir de mais de um ponto inicial\n",
    "for point in initial_points:\n",
    "    x, y = point\n",
    "    iterations = 0\n",
    "\n",
    "    # Loop para calcular o vetor gradiente, com as seguintes condições: O valor positivo de x (abs(gradiente(x,y)[0])) deve ser\n",
    "    # maior que o limite de convergência (condição dada pelo enunciado) e as iterações não podem passar de 1000, caso passe,\n",
    "    # isso significa que houve falha ao convergir.\n",
    "    while abs(gradiente(x, y)[0]) > threshold and iterations < max_iterations:\n",
    "        a, b = gradiente(x, y) # 'a' equivale ao gradiente em x e 'b' ao gradiente em y\n",
    "        x -= alpha * a # Calcula x a partir do alpha\n",
    "        y -= alpha * b # Calcula y a partir do alpha\n",
    "        iterations += 1\n",
    "\n",
    "    # Caso as iterações não ultrapssem o limite, 'printa' os pontos de mínimo com o número de iterações necessárias \n",
    "    if iterations < max_iterations:\n",
    "        print(f\"Convergência alcançada a partir do ponto inicial ({point[0]:.2f}, {point[1]:.2f})\")\n",
    "        print(f\"O ponto mínimo é ({x:.5f}, {y:.5f}) após {iterations} iterações\")\n",
    "    \n",
    "    # Caso ultrapasse, podemos inferir que houve falha ao convergir\n",
    "    else:\n",
    "        print(f\"Falha ao convergir a partir do ponto inicial ({point[0]:.2f}, {point[1]:.2f})\")\n"
   ]
  },
  {
   "cell_type": "markdown",
   "id": "e6562889",
   "metadata": {},
   "source": [
    "## 3ª Etapa\n",
    "* h(x, y) = 4ℯ^(-x² - y²) + 3ℯ^(-x² - y² + 4x + 6y - 13) - x² / 4 - y² / 6 + 2"
   ]
  },
  {
   "cell_type": "code",
   "execution_count": 8,
   "id": "413c8887",
   "metadata": {},
   "outputs": [
    {
     "name": "stdout",
     "output_type": "stream",
     "text": [
      "[-8*x*exp(-x**2 - y**2) - x/2 + 3*(4 - 2*x)*exp(-x**2 + 4*x - y**2 + 6*y - 13), -8*y*exp(-x**2 - y**2) - y/3 + 3*(6 - 2*y)*exp(-x**2 + 4*x - y**2 + 6*y - 13)]\n"
     ]
    }
   ],
   "source": [
    "# Aqui calculamos o gradiente da função acima\n",
    "\n",
    "# Definindo as variáveis\n",
    "x, y = sp.symbols('x y')\n",
    "\n",
    "# Definindo a função\n",
    "h =  4 * sp.exp(-x**2 - y**2) + 3 * sp.exp(-x**2 - y**2 + 4*x + 6*y - 13) - x**2 / 4 - y**2 / 6 + 2\n",
    "\n",
    "# Calculando o gradiente\n",
    "calcula_gradiente = [sp.diff(h, var) for var in (x, y)]\n",
    "print(calcula_gradiente)"
   ]
  },
  {
   "cell_type": "code",
   "execution_count": 14,
   "id": "5cfc4301",
   "metadata": {},
   "outputs": [],
   "source": [
    "# Colocamos os valores do gradiente numa função\n",
    "def gradiente(x,y):\n",
    "    return [ -8 * x * math.exp(-x**2 - y**2) - x/2 + 3*(4 - 2*x)*math.exp(-x**2 + 4*x - y**2 + 6*y - 13),\n",
    "           -8 * y * math.exp(-x**2 - y**2) - y/3 + 3*(6 - 2*y)*math.exp(-x**2 + 4*x - y**2 + 6*y - 13)]"
   ]
  },
  {
   "cell_type": "code",
   "execution_count": 16,
   "id": "5a889cb4",
   "metadata": {},
   "outputs": [
    {
     "name": "stdout",
     "output_type": "stream",
     "text": [
      "Convergência alcançada a partir do ponto inicial (0.00, 0.00)\n",
      "O ponto máximo é (0.00000, 0.00000) após 1 iterações\n",
      "Convergência alcançada a partir do ponto inicial (2.00, 2.00)\n",
      "O ponto máximo é (1.83832, 2.83383) após 19 iterações\n"
     ]
    }
   ],
   "source": [
    "alpha = 0.1  # Taxa de aprendizagem (0.1, 0.15, 0.2, 0.3, 0.5)\n",
    "threshold = 10e-6  # Limite de convergência\n",
    "max_iterations = 1000  # Número máximo de iterações\n",
    "\n",
    "initial_points = [(0, 0), (2, 2)]  # Pontos iniciais\n",
    "\n",
    "# Loop para calcular os pontos a partir de mais de um ponto inicial\n",
    "for point in initial_points:\n",
    "    x, y = point\n",
    "    iterations = 0\n",
    "\n",
    "    # Loop para calcular o vetor gradiente, com as seguintes condições: O valor positivo de x (abs(gradiente(x,y)[0])) deve ser\n",
    "    # maior que o limite de convergência (condição dada pelo enunciado) e as iterações não podem passar de 1000, caso passe,\n",
    "    # isso significa que houve falha ao convergir.\n",
    "    while abs(gradiente(x, y)[0]) > threshold and iterations < max_iterations:\n",
    "        a, b = gradiente(x, y)\n",
    "        x += alpha * a\n",
    "        y += alpha * b\n",
    "        iterations += 1\n",
    "\n",
    "    # Caso as iterações não ultrapssem o limite, 'printa' os pontos de mínimo com o número de iterações necessárias\n",
    "    if iterations < max_iterations:\n",
    "        print(f\"Convergência alcançada a partir do ponto inicial ({point[0]:.2f}, {point[1]:.2f})\")\n",
    "        print(f\"O ponto máximo é ({x:.5f}, {y:.5f}) após {iterations} iterações\")\n",
    "        \n",
    "    # Caso ultrapasse, podemos inferir que houve falha ao convergir\n",
    "    else:\n",
    "        print(f\"Falha ao convergir a partir do ponto inicial ({point[0]:.2f}, {point[1]:.2f})\")\n"
   ]
  }
 ],
 "metadata": {
  "kernelspec": {
   "display_name": "Python 3 (ipykernel)",
   "language": "python",
   "name": "python3"
  },
  "language_info": {
   "codemirror_mode": {
    "name": "ipython",
    "version": 3
   },
   "file_extension": ".py",
   "mimetype": "text/x-python",
   "name": "python",
   "nbconvert_exporter": "python",
   "pygments_lexer": "ipython3",
   "version": "3.9.7"
  }
 },
 "nbformat": 4,
 "nbformat_minor": 5
}
